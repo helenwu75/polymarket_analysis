{
 "cells": [
  {
   "cell_type": "markdown",
   "id": "c9b1a785",
   "metadata": {},
   "source": [
    "# Financial Value Analysis of Polymarket Prediction Markets\n",
    "\n",
    "This notebook implements analyses related to the financial value aspects of prediction markets, focusing on:\n",
    "\n",
    "1. **Trader Concentration Analysis**: Examines whether markets dominated by a few participants differ in accuracy from more democratically traded markets.\n",
    "2. **Distributional Analysis of Trader Profits**: Calculates Gini coefficient and other inequality measures.\n",
    "3. **Whale Impact Analysis**: Tests whether large traders (\"whales\") have disproportionate impacts on market outcomes.\n",
    "\n",
    "These analyses aim to understand how financial dynamics and trader behavior affect market efficiency and prediction accuracy.\n"
   ]
  },
  {
   "cell_type": "code",
   "execution_count": null,
   "id": "e8c98eb0",
   "metadata": {},
   "outputs": [],
   "source": [
    "## Setup and Data Loading"
   ]
  },
  {
   "cell_type": "code",
   "execution_count": null,
   "id": "88ae841f",
   "metadata": {},
   "outputs": [],
   "source": [
    "import os\n",
    "import sys\n",
    "import numpy as np\n",
    "import pandas as pd\n",
    "import matplotlib.pyplot as plt\n",
    "import seaborn as sns\n",
    "import warnings\n",
    "from sklearn.preprocessing import StandardScaler\n",
    "from sklearn.linear_model import LinearRegression\n",
    "\n",
    "# Add the src directory to the path\n",
    "sys.path.append('../src')\n",
    "\n",
    "# Import utility functions\n",
    "from utils.data_loader import (\n",
    "    load_main_dataset, \n",
    "    load_trade_data, \n",
    "    load_market_question_mapping,\n",
    "    get_sample_market_ids\n",
    ")\n",
    "from utils.visualization import (\n",
    "    set_plot_style, \n",
    "    plot_feature_correlation_matrix,\n",
    "    plot_lorenz_curve\n",
    ")\n",
    "\n",
    "# Set visualization style\n",
    "set_plot_style()\n",
    "\n",
    "# Create results directory\n",
    "results_dir = '../results/financial_value'\n",
    "os.makedirs(results_dir, exist_ok=True)\n",
    "\n",
    "# Suppress warnings\n",
    "warnings.filterwarnings('ignore')\n"
   ]
  }
 ],
 "metadata": {
  "language_info": {
   "name": "python"
  }
 },
 "nbformat": 4,
 "nbformat_minor": 5
}

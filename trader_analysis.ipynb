{
 "cells": [
  {
   "cell_type": "code",
   "execution_count": null,
   "id": "e2214631",
   "metadata": {},
   "outputs": [
    {
     "ename": "ModuleNotFoundError",
     "evalue": "No module named 'src'",
     "output_type": "error",
     "traceback": [
      "\u001b[31m---------------------------------------------------------------------------\u001b[39m",
      "\u001b[31mModuleNotFoundError\u001b[39m                       Traceback (most recent call last)",
      "\u001b[36mCell\u001b[39m\u001b[36m \u001b[39m\u001b[32mIn[1]\u001b[39m\u001b[32m, line 14\u001b[39m\n\u001b[32m     11\u001b[39m sys.path.append(os.path.dirname(os.getcwd()))\n\u001b[32m     13\u001b[39m \u001b[38;5;66;03m# Import analysis module\u001b[39;00m\n\u001b[32m---> \u001b[39m\u001b[32m14\u001b[39m \u001b[38;5;28;01mfrom\u001b[39;00m\u001b[38;5;250m \u001b[39m\u001b[34;01msrc\u001b[39;00m\u001b[34;01m.\u001b[39;00m\u001b[34;01mtrader_analysis\u001b[39;00m\u001b[38;5;250m \u001b[39m\u001b[38;5;28;01mimport\u001b[39;00m analyze_traders, classify_traders\n\u001b[32m     16\u001b[39m \u001b[38;5;66;03m# Run the analysis\u001b[39;00m\n\u001b[32m     17\u001b[39m results = analyze_traders(n_markets=\u001b[32m3\u001b[39m, save_path=\u001b[33m'\u001b[39m\u001b[33m../results/trader_analysis\u001b[39m\u001b[33m'\u001b[39m)\n",
      "\u001b[31mModuleNotFoundError\u001b[39m: No module named 'src'"
     ]
    }
   ],
   "source": [
    "import os\n",
    "import sys\n",
    "import pandas as pd\n",
    "import numpy as np\n",
    "import matplotlib.pyplot as plt\n",
    "import seaborn as sns\n",
    "\n",
    "# Add parent directory to path\n",
    "sys.path.append(os.path.dirname(os.getcwd()))\n",
    "\n",
    "# Import analysis module\n",
    "from src.trader_analysis import analyze_traders, classify_traders\n",
    "\n",
    "# Run the analysis\n",
    "results = analyze_traders(n_markets=3, save_path='../results/trader_analysis')\n",
    "\n",
    "if results is None:\n",
    "    print(\"Analysis failed - check for data availability\")\n",
    "else:\n",
    "    # Show market summaries\n",
    "    print(\"\\nMarket Summary Statistics:\")\n",
    "    display(results['market_summaries'])\n",
    "    \n",
    "    # Show trader type distribution\n",
    "    print(\"\\nTrader Type Distribution:\")\n",
    "    display(results['trader_types']['type_summary'])\n",
    "    \n",
    "    # Plot trader type characteristics\n",
    "    plt.figure(figsize=(12, 8))\n",
    "    \n",
    "    cluster_profiles = results['trader_types']['cluster_profiles']\n",
    "    \n",
    "    # Normalize features for radar chart\n",
    "    features = ['maker_ratio', 'total_trades', 'avg_trade_size', 'buy_sell_ratio', 'pnl']\n",
    "    \n",
    "    # Create radar chart for each cluster\n",
    "    for cluster_id, profile in cluster_profiles.iterrows():\n",
    "        values = profile[features].values\n",
    "        label = f\"{results['trader_types']['type_summary'][results['trader_types']['type_summary']['cluster'] == cluster_id]['type'].values[0]} ({int(profile['count'])} traders)\"\n",
    "        \n",
    "        # Plot cluster characteristics\n",
    "        plt.subplot(2, 3, cluster_id + 1)\n",
    "        plt.bar(features, values)\n",
    "        plt.title(label)\n",
    "        plt.xticks(rotation=45)\n",
    "    \n",
    "    plt.tight_layout()\n",
    "    plt.show()\n",
    "    \n",
    "    # Show Concentration Analysis\n",
    "    print(\"\\nMarket Concentration Analysis:\")\n",
    "    metrics = ['gini_trades', 'gini_volume', 'vol_by_top10pct', 'profit_by_top10pct']\n",
    "    \n",
    "    plt.figure(figsize=(10, 6))\n",
    "    \n",
    "    for i, metric in enumerate(metrics):\n",
    "        plt.subplot(2, 2, i+1)\n",
    "        sns.histplot(results['market_summaries'][metric], kde=True)\n",
    "        plt.axvline(results['market_summaries'][metric].mean(), color='r', linestyle='--', \n",
    "                    label=f'Mean: {results[\"market_summaries\"][metric].mean():.2f}')\n",
    "        plt.title(metric.replace('_', ' ').title())\n",
    "        plt.legend()\n",
    "    \n",
    "    plt.tight_layout()\n",
    "    plt.show()"
   ]
  }
 ],
 "metadata": {
  "kernelspec": {
   "display_name": ".venv",
   "language": "python",
   "name": "python3"
  },
  "language_info": {
   "codemirror_mode": {
    "name": "ipython",
    "version": 3
   },
   "file_extension": ".py",
   "mimetype": "text/x-python",
   "name": "python",
   "nbconvert_exporter": "python",
   "pygments_lexer": "ipython3",
   "version": "3.13.0"
  }
 },
 "nbformat": 4,
 "nbformat_minor": 5
}
